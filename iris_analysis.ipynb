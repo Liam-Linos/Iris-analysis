{
 "cells": [
  {
   "cell_type": "markdown",
   "id": "2d33f71f",
   "metadata": {},
   "source": [
    "# Iris Dataset Analysis\n",
    "This notebook explores the famous Iris dataset, performing data loading, exploration, analysis, and visualizations."
   ]
  },
  {
   "cell_type": "code",
   "execution_count": null,
   "id": "691a2211",
   "metadata": {},
   "outputs": [],
   "source": [
    "\n",
    "import pandas as pd\n",
    "import matplotlib.pyplot as plt\n",
    "import seaborn as sns\n",
    "from sklearn.datasets import load_iris\n",
    "\n",
    "# Load the Iris dataset\n",
    "iris = load_iris()\n",
    "df = pd.DataFrame(iris.data, columns=iris.feature_names)\n",
    "\n",
    "# Add the target column (species)\n",
    "df['species'] = pd.Categorical.from_codes(iris.target, iris.target_names)\n",
    "\n",
    "# Display the first few rows\n",
    "df.head()\n"
   ]
  },
  {
   "cell_type": "code",
   "execution_count": null,
   "id": "4c2cb05d",
   "metadata": {},
   "outputs": [],
   "source": [
    "\n",
    "# Check data types and missing values\n",
    "df.info()\n",
    "\n",
    "# Check for missing values\n",
    "df.isnull().sum()\n"
   ]
  },
  {
   "cell_type": "code",
   "execution_count": null,
   "id": "d8fbdd0a",
   "metadata": {},
   "outputs": [],
   "source": [
    "\n",
    "# Compute basic statistics for numerical columns\n",
    "df.describe()\n"
   ]
  },
  {
   "cell_type": "code",
   "execution_count": null,
   "id": "b355b2e3",
   "metadata": {},
   "outputs": [],
   "source": [
    "\n",
    "# Group by species and compute the mean of numerical columns\n",
    "df.groupby(\"species\").mean()\n"
   ]
  },
  {
   "cell_type": "code",
   "execution_count": null,
   "id": "280e9dea",
   "metadata": {},
   "outputs": [],
   "source": [
    "\n",
    "# Set the theme for seaborn\n",
    "sns.set_theme(style=\"whitegrid\")\n",
    "\n",
    "# Line chart: Petal length trend per species\n",
    "plt.figure(figsize=(8, 5))\n",
    "sns.lineplot(data=df, x=\"species\", y=\"petal length (cm)\", estimator=\"mean\", marker=\"o\", ci=None)\n",
    "plt.title(\"Average Petal Length per Species\")\n",
    "plt.xlabel(\"Species\")\n",
    "plt.ylabel(\"Petal Length (cm)\")\n",
    "plt.show()\n",
    "\n",
    "# Bar chart: Average sepal width per species\n",
    "plt.figure(figsize=(8, 5))\n",
    "sns.barplot(data=df, x=\"species\", y=\"sepal width (cm)\", ci=None)\n",
    "plt.title(\"Average Sepal Width per Species\")\n",
    "plt.xlabel(\"Species\")\n",
    "plt.ylabel(\"Sepal Width (cm)\")\n",
    "plt.show()\n",
    "\n",
    "# Histogram: Distribution of petal length\n",
    "plt.figure(figsize=(8, 5))\n",
    "sns.histplot(df[\"petal length (cm)\"], bins=20, kde=True, color=\"blue\")\n",
    "plt.title(\"Distribution of Petal Length\")\n",
    "plt.xlabel(\"Petal Length (cm)\")\n",
    "plt.ylabel(\"Frequency\")\n",
    "plt.show()\n",
    "\n",
    "# Scatter plot: Sepal length vs. petal length\n",
    "plt.figure(figsize=(8, 5))\n",
    "sns.scatterplot(data=df, x=\"sepal length (cm)\", y=\"petal length (cm)\", hue=\"species\", style=\"species\")\n",
    "plt.title(\"Sepal Length vs. Petal Length\")\n",
    "plt.xlabel(\"Sepal Length (cm)\")\n",
    "plt.ylabel(\"Petal Length (cm)\")\n",
    "plt.legend(title=\"Species\")\n",
    "plt.show()\n"
   ]
  }
 ],
 "metadata": {},
 "nbformat": 4,
 "nbformat_minor": 5
}
